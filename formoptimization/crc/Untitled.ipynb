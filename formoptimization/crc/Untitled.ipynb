{
 "cells": [
  {
   "cell_type": "code",
   "execution_count": 1,
   "metadata": {
    "collapsed": false
   },
   "outputs": [
    {
     "name": "stdout",
     "output_type": "stream",
     "text": [
      "{(-12.5, -15): 12, (-10, -22.5): 14, (-20, -22.5): 12, (-15, -22.5): 12, (-17.5, -17.5): 12, (-20, -5): 19, (-20, -25): 12, (-25, -5): 19, (-2.5, -15): 18, (-20, -20): 12, (-22.5, -15): 12, (-2.5, -17.5): 18, (-17.5, -22.5): 12, (-22.5, -12.5): 12, (-15, -10): 15, (-17.5, -25): 12, (-22.5, -2.5): 18, (-17.5, -12.5): 12, (-25, -10): 13, (-17.5, -20): 12, (-2.5, -25): 18, (-5, -10): 17, (-22.5, -25): 12, (-22.5, -5): 19, (-15, -5): 18, (-5, -5): 17, (-15, -25): 12, (-12.5, -20): 12, (-10, -5): 17, (-12.5, -17.5): 12, (-20, -17.5): 12, (-5, -17.5): 17, (-5, -22.5): 17, (-12.5, -25): 12, (-5, -25): 17, (-20, -15): 12, (-15, -20): 12, (-25, -15): 12, (-10, -12.5): 14, (-2.5, -2.5): 18, (-17.5, -10): 15, (-10, -17.5): 14, (-5, -20): 17, (-5, -12.5): 17, (-17.5, -2.5): 18, (-2.5, -10): 18, (-2.5, -12.5): 18, (-25, -2.5): 18, (-20, -12.5): 12, (-25, -20): 12, (-15, -17.5): 12, (-17.5, -5): 19, (-22.5, -20): 12, (-12.5, -5): 18, (-5, -2.5): 18, (-22.5, -22.5): 12, (-17.5, -15): 12, (-2.5, -20): 18, (-25, -25): 12, (-25, -17.5): 12, (-15, -12.5): 12, (-10, -25): 14, (-25, -12.5): 12, (-2.5, -22.5): 18, (-25, -22.5): 12, (-20, -10): 15, (-2.5, -5): 18, (-12.5, -10): 14, (-22.5, -10): 15, (-10, -15): 14, (-10, -10): 14, (-12.5, -22.5): 12, (-10, -20): 14, (-20, -2.5): 18, (-22.5, -17.5): 12, (-15, -2.5): 18, (-15, -15): 12, (-5, -15): 17, (-10, -2.5): 18, (-12.5, -2.5): 18, (-12.5, -12.5): 12}\n"
     ]
    }
   ],
   "source": [
    "import pickle\n",
    "import matplotlib.pyplot as plt\n",
    "\n",
    "\n",
    "dict_=pickle.load(open('param_sweep_error_dict.pkl','rb'))\n",
    "print dict_"
   ]
  },
  {
   "cell_type": "code",
   "execution_count": 2,
   "metadata": {
    "collapsed": false
   },
   "outputs": [],
   "source": [
    "keylist=dict_.keys()\n",
    "import numpy as np\n",
    "mat=np.zeros((9,9))\n",
    "options={\n",
    "    -25:0,\n",
    "    -22.5:1,\n",
    "    -20:2,\n",
    "    -17.5:3,\n",
    "    -15:4,\n",
    "    -12.5:5,\n",
    "    -10:6,\n",
    "    -5:7,\n",
    "    -2.5:8\n",
    "}\n",
    "for key in keylist:\n",
    "    g=options[key[0]]\n",
    "    e=options[key[1]]\n",
    "    mat[g,e]=dict_[key]\n",
    "plt.figure()\n",
    "plt.imshow(mat,interpolation=None,origin='lower')\n",
    "plt.colorbar()\n",
    "labels=[-25,-22.5,-20,-17.5,-15,-12.5,-10,-5,-2.5]\n",
    "tick_marks = np.arange(len(labels))\n",
    "plt.xticks(tick_marks, labels)\n",
    "plt.yticks(tick_marks, labels)\n",
    "plt.tight_layout()\n",
    "\n",
    "plt.show()\n"
   ]
  },
  {
   "cell_type": "code",
   "execution_count": 3,
   "metadata": {
    "collapsed": false
   },
   "outputs": [
    {
     "ename": "TypeError",
     "evalue": "unsupported operand type(s) for /: 'dict' and 'int'",
     "output_type": "error",
     "traceback": [
      "\u001b[1;31m---------------------------------------------------------------------------\u001b[0m",
      "\u001b[1;31mTypeError\u001b[0m                                 Traceback (most recent call last)",
      "\u001b[1;32m<ipython-input-3-f81cd3bd64c8>\u001b[0m in \u001b[0;36m<module>\u001b[1;34m()\u001b[0m\n\u001b[0;32m      1\u001b[0m \u001b[0mdicty\u001b[0m\u001b[1;33m=\u001b[0m\u001b[1;33m{\u001b[0m\u001b[1;36m1\u001b[0m\u001b[1;33m:\u001b[0m\u001b[1;36m2\u001b[0m\u001b[1;33m,\u001b[0m\u001b[1;36m2\u001b[0m\u001b[1;33m:\u001b[0m\u001b[1;36m4\u001b[0m\u001b[1;33m}\u001b[0m\u001b[1;33m\u001b[0m\u001b[0m\n\u001b[1;32m----> 2\u001b[1;33m \u001b[1;32mprint\u001b[0m \u001b[0mdicty\u001b[0m\u001b[1;33m/\u001b[0m\u001b[1;36m2\u001b[0m\u001b[1;33m\u001b[0m\u001b[0m\n\u001b[0m",
      "\u001b[1;31mTypeError\u001b[0m: unsupported operand type(s) for /: 'dict' and 'int'"
     ]
    }
   ],
   "source": []
  },
  {
   "cell_type": "code",
   "execution_count": 1,
   "metadata": {
    "collapsed": false
   },
   "outputs": [],
   "source": [
    "import matplotlib.pyplot as plt\n",
    "import numpy as np\n",
    "import random\n",
    "\n",
    "x=np.linspace(0,10,30)\n",
    "y1=np.linspace(-5,5,30)\n",
    "random.shuffle(y1)\n",
    "y2=np.linspace(-5,5,30)\n",
    "random.shuffle(y2)\n",
    "y3=np.linspace(-5,5,30)\n",
    "random.shuffle(y3)\n",
    "datalists=[[y1,y2,y3]]\n",
    "fig, axes = plt.subplots(len(datalists[0]), 1)\n",
    "for datalist in datalists:\n",
    "    for z,list_ in enumerate(datalist):\n",
    "            axes[z].plot(x,list_)\n",
    "            \n",
    "plt.show()\n",
    "    "
   ]
  },
  {
   "cell_type": "code",
   "execution_count": 7,
   "metadata": {
    "collapsed": false
   },
   "outputs": [
    {
     "ename": "NameError",
     "evalue": "name 'x' is not defined",
     "output_type": "error",
     "traceback": [
      "\u001b[1;31m---------------------------------------------------------------------------\u001b[0m",
      "\u001b[1;31mNameError\u001b[0m                                 Traceback (most recent call last)",
      "\u001b[1;32m<ipython-input-7-f1e350135595>\u001b[0m in \u001b[0;36m<module>\u001b[1;34m()\u001b[0m\n\u001b[0;32m      6\u001b[0m \u001b[0mrv\u001b[0m\u001b[1;33m=\u001b[0m\u001b[0mmultivariate_normal\u001b[0m\u001b[1;33m(\u001b[0m\u001b[1;33m[\u001b[0m\u001b[1;36m1\u001b[0m\u001b[1;33m,\u001b[0m\u001b[1;36m1\u001b[0m\u001b[1;33m]\u001b[0m\u001b[1;33m,\u001b[0m\u001b[1;33m[\u001b[0m\u001b[1;33m[\u001b[0m\u001b[1;36m2\u001b[0m\u001b[1;33m,\u001b[0m\u001b[1;36m0\u001b[0m\u001b[1;33m]\u001b[0m\u001b[1;33m,\u001b[0m\u001b[1;33m[\u001b[0m\u001b[1;36m0\u001b[0m\u001b[1;33m,\u001b[0m\u001b[1;36m1\u001b[0m\u001b[1;33m]\u001b[0m\u001b[1;33m]\u001b[0m\u001b[1;33m)\u001b[0m\u001b[1;33m\u001b[0m\u001b[0m\n\u001b[0;32m      7\u001b[0m \u001b[1;31m# plt.contour(rv)\u001b[0m\u001b[1;33m\u001b[0m\u001b[1;33m\u001b[0m\u001b[0m\n\u001b[1;32m----> 8\u001b[1;33m \u001b[0mpos\u001b[0m \u001b[1;33m=\u001b[0m \u001b[0mnp\u001b[0m\u001b[1;33m.\u001b[0m\u001b[0mempty\u001b[0m\u001b[1;33m(\u001b[0m\u001b[0mx\u001b[0m\u001b[1;33m.\u001b[0m\u001b[0mshape\u001b[0m \u001b[1;33m+\u001b[0m \u001b[1;33m(\u001b[0m\u001b[1;36m2\u001b[0m\u001b[1;33m,\u001b[0m\u001b[1;33m)\u001b[0m\u001b[1;33m)\u001b[0m\u001b[1;33m\u001b[0m\u001b[0m\n\u001b[0m\u001b[0;32m      9\u001b[0m \u001b[0mpos\u001b[0m\u001b[1;33m[\u001b[0m\u001b[1;33m:\u001b[0m\u001b[1;33m,\u001b[0m \u001b[1;33m:\u001b[0m\u001b[1;33m,\u001b[0m \u001b[1;36m0\u001b[0m\u001b[1;33m]\u001b[0m \u001b[1;33m=\u001b[0m \u001b[0mx\u001b[0m\u001b[1;33m;\u001b[0m \u001b[0mpos\u001b[0m\u001b[1;33m[\u001b[0m\u001b[1;33m:\u001b[0m\u001b[1;33m,\u001b[0m \u001b[1;33m:\u001b[0m\u001b[1;33m,\u001b[0m \u001b[1;36m1\u001b[0m\u001b[1;33m]\u001b[0m \u001b[1;33m=\u001b[0m \u001b[0my\u001b[0m\u001b[1;33m\u001b[0m\u001b[0m\n\u001b[0;32m     10\u001b[0m \u001b[1;32mprint\u001b[0m \u001b[0mrv\u001b[0m\u001b[1;33m.\u001b[0m\u001b[0mpdf\u001b[0m\u001b[1;33m(\u001b[0m\u001b[0mpos\u001b[0m\u001b[1;33m)\u001b[0m\u001b[1;33m\u001b[0m\u001b[0m\n",
      "\u001b[1;31mNameError\u001b[0m: name 'x' is not defined"
     ]
    }
   ],
   "source": [
    "from scipy.stats import multivariate_normal\n",
    "import matplotlib.pyplot as plt\n",
    "import numpy as np\n",
    "\n",
    "plt.figure()\n",
    "rv=multivariate_normal([1,1],[[2,0],[0,1]])\n",
    "# plt.contour(rv)\n",
    "pos = np.empty(x.shape + (2,))\n",
    "pos[:, :, 0] = x; pos[:, :, 1] = y\n",
    "print rv.pdf(pos)"
   ]
  },
  {
   "cell_type": "code",
   "execution_count": 11,
   "metadata": {
    "collapsed": false
   },
   "outputs": [
    {
     "name": "stdout",
     "output_type": "stream",
     "text": [
      "3.01232968784 5.70696314374 0.582826986689 8.43987032263 6.09881891293\n"
     ]
    }
   ],
   "source": [
    "import numpy as np\n",
    "samples1=np.random.normal(3,3,100)\n",
    "samples2=np.random.normal(5.5,2.5,100)\n",
    "# samples1=x_1.rvs(size=100)\n",
    "# samples2=x_2.rvs(size=100)\n",
    "\n",
    "mu1= sum(samples1)/len(samples1)\n",
    "mu2= sum(samples2)/len(samples2)\n",
    "covariance=0\n",
    "for i,sample in enumerate(samples1):\n",
    "    sample2=samples2[i]\n",
    "    covariance+=(sample-mu1)*(sample2-mu2)\n",
    "covariance=covariance/(len(samples1)-1)\n",
    "var1=0\n",
    "for sample in samples1:\n",
    "    var1+=(sample-mu1)**2\n",
    "var1/=(len(samples1)-1)\n",
    "\n",
    "var2=0\n",
    "for sample in samples2:\n",
    "    var2+=(sample-mu2)**2\n",
    "var2/=(len(samples2)-1)\n",
    "print mu1,mu2,covariance,var1,var2"
   ]
  },
  {
   "cell_type": "code",
   "execution_count": 19,
   "metadata": {
    "collapsed": false
   },
   "outputs": [],
   "source": [
    "\n",
    "plt.scatter(samples1,samples2,c='r')\n",
    "\n",
    "\n",
    "axes=plt.gca()\n",
    "axes.set_xlim([-15,15])\n",
    "axes.set_ylim([-15,15])\n",
    "ax=plt.axes()\n",
    "ax.arrow(mu1, mu2, 0.97*8.577, 0.23*8.577,head_width=.3,head_length=.6)\n",
    "ax.arrow(mu1, mu2, -.23*5.96, .97*5.96,head_width=.3,head_length=.6)\n",
    "plt.show()"
   ]
  },
  {
   "cell_type": "code",
   "execution_count": 21,
   "metadata": {
    "collapsed": true
   },
   "outputs": [],
   "source": [
    "newx=[]\n",
    "newy=[]\n",
    "\n",
    "for point in zip(samples1,samples2):\n",
    "    tempx=point[0]-mu1\n",
    "    tempy=point[1]-mu2\n",
    "    x_=.97*tempx+.23*tempy\n",
    "    y_=0-.23*tempx+.97*tempy\n",
    "    newx.append(x_)\n",
    "    newy.append(y_)\n",
    "plt.scatter(newx,newy,c='r')\n",
    "\n",
    "\n",
    "axes=plt.gca()\n",
    "axes.set_xlim([-15,15])\n",
    "axes.set_ylim([-15,15])\n",
    "plt.show()"
   ]
  },
  {
   "cell_type": "code",
   "execution_count": null,
   "metadata": {
    "collapsed": true
   },
   "outputs": [],
   "source": []
  }
 ],
 "metadata": {
  "kernelspec": {
   "display_name": "Python 2",
   "language": "python",
   "name": "python2"
  },
  "language_info": {
   "codemirror_mode": {
    "name": "ipython",
    "version": 2
   },
   "file_extension": ".py",
   "mimetype": "text/x-python",
   "name": "python",
   "nbconvert_exporter": "python",
   "pygments_lexer": "ipython2",
   "version": "2.7.8"
  }
 },
 "nbformat": 4,
 "nbformat_minor": 0
}
