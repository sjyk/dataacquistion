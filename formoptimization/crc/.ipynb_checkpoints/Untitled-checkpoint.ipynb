{
 "cells": [
  {
   "cell_type": "code",
   "execution_count": 1,
   "metadata": {
    "collapsed": false
   },
   "outputs": [
    {
     "name": "stdout",
     "output_type": "stream",
     "text": [
      "{(-12.5, -15): 12, (-10, -22.5): 14, (-20, -22.5): 12, (-15, -22.5): 12, (-17.5, -17.5): 12, (-20, -5): 19, (-20, -25): 12, (-25, -5): 19, (-2.5, -15): 18, (-20, -20): 12, (-22.5, -15): 12, (-2.5, -17.5): 18, (-17.5, -22.5): 12, (-22.5, -12.5): 12, (-15, -10): 15, (-17.5, -25): 12, (-22.5, -2.5): 18, (-17.5, -12.5): 12, (-25, -10): 13, (-17.5, -20): 12, (-2.5, -25): 18, (-5, -10): 17, (-22.5, -25): 12, (-22.5, -5): 19, (-15, -5): 18, (-5, -5): 17, (-15, -25): 12, (-12.5, -20): 12, (-10, -5): 17, (-12.5, -17.5): 12, (-20, -17.5): 12, (-5, -17.5): 17, (-5, -22.5): 17, (-12.5, -25): 12, (-5, -25): 17, (-20, -15): 12, (-15, -20): 12, (-25, -15): 12, (-10, -12.5): 14, (-2.5, -2.5): 18, (-17.5, -10): 15, (-10, -17.5): 14, (-5, -20): 17, (-5, -12.5): 17, (-17.5, -2.5): 18, (-2.5, -10): 18, (-2.5, -12.5): 18, (-25, -2.5): 18, (-20, -12.5): 12, (-25, -20): 12, (-15, -17.5): 12, (-17.5, -5): 19, (-22.5, -20): 12, (-12.5, -5): 18, (-5, -2.5): 18, (-22.5, -22.5): 12, (-17.5, -15): 12, (-2.5, -20): 18, (-25, -25): 12, (-25, -17.5): 12, (-15, -12.5): 12, (-10, -25): 14, (-25, -12.5): 12, (-2.5, -22.5): 18, (-25, -22.5): 12, (-20, -10): 15, (-2.5, -5): 18, (-12.5, -10): 14, (-22.5, -10): 15, (-10, -15): 14, (-10, -10): 14, (-12.5, -22.5): 12, (-10, -20): 14, (-20, -2.5): 18, (-22.5, -17.5): 12, (-15, -2.5): 18, (-15, -15): 12, (-5, -15): 17, (-10, -2.5): 18, (-12.5, -2.5): 18, (-12.5, -12.5): 12}\n"
     ]
    }
   ],
   "source": [
    "import pickle\n",
    "import matplotlib.pyplot as plt\n",
    "\n",
    "\n",
    "dict_=pickle.load(open('param_sweep_error_dict.pkl','rb'))\n",
    "print dict_"
   ]
  },
  {
   "cell_type": "code",
   "execution_count": 2,
   "metadata": {
    "collapsed": true
   },
   "outputs": [],
   "source": [
    "keylist=dict_.keys()\n",
    "import numpy as np\n",
    "mat=np.zeros((9,9))\n",
    "options={\n",
    "    -25:0,\n",
    "    -22.5:1,\n",
    "    -20:2,\n",
    "    -17.5:3,\n",
    "    -15:4,\n",
    "    -12.5:5,\n",
    "    -10:6,\n",
    "    -5:7,\n",
    "    -2.5:8\n",
    "}\n",
    "for key in keylist:\n",
    "    g=options[key[0]]\n",
    "    e=options[key[1]]\n",
    "    mat[g,e]=dict_[key]\n",
    "plt.figure()\n",
    "plt.colorbar()\n",
    "plt.imshow(mat,interpolation='nearest')\n",
    "labels=[-25,-22.5,-20,-17.5,-15,-12.5,-10,-5,-2.5]\n",
    "tick_marks = np.arange(len(labels))\n",
    "plt.xticks(tick_marks, labels)\n",
    "plt.yticks(tick_marks, labels)\n",
    "\n",
    "plt.show()\n"
   ]
  },
  {
   "cell_type": "code",
   "execution_count": null,
   "metadata": {
    "collapsed": true
   },
   "outputs": [],
   "source": []
  }
 ],
 "metadata": {
  "kernelspec": {
   "display_name": "Python 2",
   "language": "python",
   "name": "python2"
  },
  "language_info": {
   "codemirror_mode": {
    "name": "ipython",
    "version": 2
   },
   "file_extension": ".py",
   "mimetype": "text/x-python",
   "name": "python",
   "nbconvert_exporter": "python",
   "pygments_lexer": "ipython2",
   "version": "2.7.8"
  }
 },
 "nbformat": 4,
 "nbformat_minor": 0
}
